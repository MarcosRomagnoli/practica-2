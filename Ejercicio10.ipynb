{
 "cells": [
  {
   "cell_type": "markdown",
   "id": "8ce6e824",
   "metadata": {},
   "source": [
    "Importo el modulo con las funciones a utilizar"
   ]
  },
  {
   "cell_type": "code",
   "execution_count": 29,
   "id": "94df7fc8",
   "metadata": {},
   "outputs": [],
   "source": [
    "import estadisticas"
   ]
  },
  {
   "cell_type": "markdown",
   "id": "3ea88580",
   "metadata": {},
   "source": [
    "Creo una lista de los nombres de jugadores"
   ]
  },
  {
   "cell_type": "code",
   "execution_count": 30,
   "id": "22b5f796-5b3a-402d-bf30-a1e362cc556c",
   "metadata": {},
   "outputs": [
    {
     "name": "stdout",
     "output_type": "stream",
     "text": [
      "['Agustin', 'Yanina', 'Andrés', 'Ariadna', 'Bautista', 'Carolina', 'Cesar', 'David', 'Diego', 'Dolores', 'Dylan', 'Eliana', 'Emanuel', 'Fabián', 'Noelia', \"Francsica'\", 'Federico', 'Fernanda', 'Gonzalo', 'Nancy']\n"
     ]
    }
   ],
   "source": [
    "names = \"\"\"Agustin, Yanina, Andrés, Ariadna, Bautista, CAROLINA, CESAR, David, Diego, Dolores, DYLAN, ELIANA, Emanuel, Fabián, Noelia, Francsica', FEDERICO, Fernanda, GONZALO, Nancy\"\"\"\n",
    "goals = [0, 10, 4, 0, 5, 14, 0, 0, 7, 2, 1, 1, 1, 5, 6, 1, 1, 2, 0,\n",
    "11]\n",
    "goals_avoided = [0, 2, 0, 0, 5, 2, 0, 0, 1, 2, 0, 5, 5, 0, 1, 0, 2,\n",
    "3, 0, 0]\n",
    "assists = [0, 5, 1, 0, 5, 2, 0, 0, 1, 2, 1, 5, 5, 0, 1, 0, 2, 3, 1,\n",
    "0]\n",
    "\n",
    "names=names.split(\", \")\n",
    "names_list = [name.capitalize() for name in names] \n",
    "print(names_list)"
   ]
  },
  {
   "cell_type": "markdown",
   "id": "e6233903-c7dd-4c16-870f-8f08ec127065",
   "metadata": {},
   "source": [
    "INCISO 1"
   ]
  },
  {
   "cell_type": "markdown",
   "id": "ebb677fc",
   "metadata": {},
   "source": [
    "La estructura que elegi es una lista de diccionarios"
   ]
  },
  {
   "cell_type": "code",
   "execution_count": 31,
   "id": "2d898fb1-cd5a-43fe-8deb-27171b1dad0c",
   "metadata": {},
   "outputs": [
    {
     "name": "stdout",
     "output_type": "stream",
     "text": [
      "Estadísticas de todos los jugadores:\n",
      "{'Name': 'Agustin', 'Goals': 0, 'Avoided goals': 0, 'Assists': 0}\n",
      "{'Name': 'Yanina', 'Goals': 10, 'Avoided goals': 2, 'Assists': 5}\n",
      "{'Name': 'Andrés', 'Goals': 4, 'Avoided goals': 0, 'Assists': 1}\n",
      "{'Name': 'Ariadna', 'Goals': 0, 'Avoided goals': 0, 'Assists': 0}\n",
      "{'Name': 'Bautista', 'Goals': 5, 'Avoided goals': 5, 'Assists': 5}\n",
      "{'Name': 'Carolina', 'Goals': 14, 'Avoided goals': 2, 'Assists': 2}\n",
      "{'Name': 'Cesar', 'Goals': 0, 'Avoided goals': 0, 'Assists': 0}\n",
      "{'Name': 'David', 'Goals': 0, 'Avoided goals': 0, 'Assists': 0}\n",
      "{'Name': 'Diego', 'Goals': 7, 'Avoided goals': 1, 'Assists': 1}\n",
      "{'Name': 'Dolores', 'Goals': 2, 'Avoided goals': 2, 'Assists': 2}\n",
      "{'Name': 'Dylan', 'Goals': 1, 'Avoided goals': 0, 'Assists': 1}\n",
      "{'Name': 'Eliana', 'Goals': 1, 'Avoided goals': 5, 'Assists': 5}\n",
      "{'Name': 'Emanuel', 'Goals': 1, 'Avoided goals': 5, 'Assists': 5}\n",
      "{'Name': 'Fabián', 'Goals': 5, 'Avoided goals': 0, 'Assists': 0}\n",
      "{'Name': 'Noelia', 'Goals': 6, 'Avoided goals': 1, 'Assists': 1}\n",
      "{'Name': \"Francsica'\", 'Goals': 1, 'Avoided goals': 0, 'Assists': 0}\n",
      "{'Name': 'Federico', 'Goals': 1, 'Avoided goals': 2, 'Assists': 2}\n",
      "{'Name': 'Fernanda', 'Goals': 2, 'Avoided goals': 3, 'Assists': 3}\n",
      "{'Name': 'Gonzalo', 'Goals': 0, 'Avoided goals': 0, 'Assists': 1}\n",
      "{'Name': 'Nancy', 'Goals': 11, 'Avoided goals': 0, 'Assists': 0}\n"
     ]
    }
   ],
   "source": [
    "players = estadisticas.generate_statistics(names_list, goals, goals_avoided, assists)\n",
    "\n",
    "print(\"Estadísticas de todos los jugadores:\")\n",
    "for player in players:\n",
    "    print(player)"
   ]
  },
  {
   "cell_type": "markdown",
   "id": "e064d782-2ebf-43b2-8564-9806c6061e1a",
   "metadata": {},
   "source": [
    "INCISO 2"
   ]
  },
  {
   "cell_type": "markdown",
   "id": "0a6dcee1",
   "metadata": {},
   "source": [
    "Obtengo el goleador con sus respectivos goles invocando la función get_top_scorer()"
   ]
  },
  {
   "cell_type": "code",
   "execution_count": 32,
   "id": "ce736882-a367-4c8b-88f9-1ec103117717",
   "metadata": {},
   "outputs": [
    {
     "name": "stdout",
     "output_type": "stream",
     "text": [
      "El goleador es Carolina con 14 goles.\n"
     ]
    }
   ],
   "source": [
    "top_scorer, goals = estadisticas.get_top_scorer(players)\n",
    "\n",
    "print(\"El goleador es\", top_scorer, \"con\", goals, \"goles.\")\n"
   ]
  },
  {
   "cell_type": "markdown",
   "id": "6527c671-547b-418c-b8b3-58c8322bfe34",
   "metadata": {},
   "source": [
    "INCISO 3"
   ]
  },
  {
   "cell_type": "markdown",
   "id": "1f55f8de",
   "metadata": {},
   "source": [
    "Obtengo el nombre del jugador mas influyente invocando la función most_influential_player()"
   ]
  },
  {
   "cell_type": "code",
   "execution_count": 33,
   "id": "ff7841ca-e7d1-4dff-bcbb-9c173be57cc5",
   "metadata": {},
   "outputs": [
    {
     "name": "stdout",
     "output_type": "stream",
     "text": [
      "El jugador más influyente es Carolina\n"
     ]
    }
   ],
   "source": [
    "influential_player = estadisticas.most_influential_player(players)\n",
    "\n",
    "print(\"El jugador más influyente es\", influential_player)"
   ]
  },
  {
   "cell_type": "markdown",
   "id": "5dd3dd6b-cd2a-4d1d-b36e-5a78c41b7898",
   "metadata": {},
   "source": [
    "INCISO 4"
   ]
  },
  {
   "cell_type": "markdown",
   "id": "b0d18284",
   "metadata": {},
   "source": [
    "Obtengo el promedio de goles por partido del equipo en general invocando a la función average_goals_per_match_team()"
   ]
  },
  {
   "cell_type": "code",
   "execution_count": 34,
   "id": "e2edd5c1-1c7f-4783-8b68-03b0c600e55c",
   "metadata": {},
   "outputs": [
    {
     "name": "stdout",
     "output_type": "stream",
     "text": [
      "Promedio de goles por partido del equipo en general: 2.84\n"
     ]
    }
   ],
   "source": [
    "average_goals_team = estadisticas.average_goals_per_match_team(players)\n",
    "\n",
    "print(\"Promedio de goles por partido del equipo en general:\", average_goals_team)\n"
   ]
  },
  {
   "cell_type": "markdown",
   "id": "688fc981-7a7b-41d2-bc54-314be7959df2",
   "metadata": {},
   "source": [
    "INCISO 5"
   ]
  },
  {
   "cell_type": "markdown",
   "id": "7e14078c",
   "metadata": {},
   "source": [
    "Obtengo el promedio de goles por partido del goleador invocando a la función average_goals_per_match_top_scorer()"
   ]
  },
  {
   "cell_type": "code",
   "execution_count": 35,
   "id": "fc53ea85-3545-44de-9067-1c9329baa05a",
   "metadata": {},
   "outputs": [
    {
     "name": "stdout",
     "output_type": "stream",
     "text": [
      "Promedio de goles por partido del goleador: 0.56\n"
     ]
    }
   ],
   "source": [
    "average_goals_scorer = estadisticas.average_goals_per_match_top_scorer(players)\n",
    "\n",
    "print(\"Promedio de goles por partido del goleador:\", average_goals_scorer)"
   ]
  }
 ],
 "metadata": {
  "kernelspec": {
   "display_name": "Python 3 (ipykernel)",
   "language": "python",
   "name": "python3"
  },
  "language_info": {
   "codemirror_mode": {
    "name": "ipython",
    "version": 3
   },
   "file_extension": ".py",
   "mimetype": "text/x-python",
   "name": "python",
   "nbconvert_exporter": "python",
   "pygments_lexer": "ipython3",
   "version": "3.11.7"
  }
 },
 "nbformat": 4,
 "nbformat_minor": 5
}
